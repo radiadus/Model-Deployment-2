{
  "nbformat": 4,
  "nbformat_minor": 0,
  "metadata": {
    "colab": {
      "provenance": []
    },
    "kernelspec": {
      "name": "python3",
      "display_name": "Python 3"
    },
    "language_info": {
      "name": "python"
    }
  },
  "cells": [
    {
      "cell_type": "code",
      "execution_count": null,
      "metadata": {
        "id": "nHMhiqqVUT_5"
      },
      "outputs": [],
      "source": [
        "import pandas as pd\n",
        "import numpy as np\n",
        "import matplotlib.pyplot as plt\n",
        "import seaborn as sns"
      ]
    },
    {
      "cell_type": "code",
      "source": [
        "data = pd.read_csv(\"https://raw.githubusercontent.com/frfusch21/Data-Science-Modul/master/Datasets/LoanApprovalPrediction.csv\")"
      ],
      "metadata": {
        "id": "YvJSEdIYUd7E"
      },
      "execution_count": null,
      "outputs": []
    },
    {
      "cell_type": "code",
      "source": [
        "data.head(5)"
      ],
      "metadata": {
        "id": "jajo-Kp6WrxK"
      },
      "execution_count": null,
      "outputs": []
    },
    {
      "cell_type": "code",
      "source": [
        "obj = (data.dtypes == 'object')\n",
        "print(\"Categorical variables:\",len(list(obj[obj].index)))"
      ],
      "metadata": {
        "id": "Nl-VI0_3Wr4d"
      },
      "execution_count": null,
      "outputs": []
    },
    {
      "cell_type": "code",
      "source": [
        "# Dropping Loan_ID column\n",
        "data.drop(['Loan_ID'],axis=1,inplace=True)"
      ],
      "metadata": {
        "id": "yCH17D_8Wr9S"
      },
      "execution_count": null,
      "outputs": []
    },
    {
      "cell_type": "code",
      "source": [
        "data"
      ],
      "metadata": {
        "id": "LYwW-begWzYb"
      },
      "execution_count": null,
      "outputs": []
    },
    {
      "cell_type": "code",
      "source": [
        "obj = (data.dtypes == 'object')\n",
        "object_cols = list(obj[obj].index)\n",
        "plt.figure(figsize=(18,36))\n",
        "index = 1\n",
        "\n",
        "for col in object_cols:\n",
        "  y = data[col].value_counts()\n",
        "  plt.subplot(11,4,index)\n",
        "  plt.xticks(rotation=90)\n",
        "  sns.barplot(x=list(y.index), y=y)\n",
        "  index +=1"
      ],
      "metadata": {
        "id": "deVAQhmeWzbr"
      },
      "execution_count": null,
      "outputs": []
    },
    {
      "cell_type": "code",
      "source": [
        "# Import label encoder\n",
        "from sklearn import preprocessing\n",
        "\n",
        "# label_encoder object knows how\n",
        "# to understand word labels.\n",
        "label_encoder = preprocessing.LabelEncoder()\n",
        "obj = (data.dtypes == 'object')\n",
        "for col in list(obj[obj].index):\n",
        "  data[col] = label_encoder.fit_transform(data[col])"
      ],
      "metadata": {
        "id": "WkrNjb6gWzhN"
      },
      "execution_count": null,
      "outputs": []
    },
    {
      "cell_type": "code",
      "source": [
        "# To find the number of columns with\n",
        "# datatype==object\n",
        "obj = (data.dtypes == 'object')\n",
        "print(\"Categorical variables:\",len(list(obj[obj].index)))"
      ],
      "metadata": {
        "id": "bnhsgOH7XOCp"
      },
      "execution_count": null,
      "outputs": []
    },
    {
      "cell_type": "code",
      "source": [
        "plt.figure(figsize=(12,6))\n",
        "\n",
        "sns.heatmap(data.corr(),cmap='BrBG',fmt='.2f',\n",
        "\t\t\tlinewidths=2,annot=True)"
      ],
      "metadata": {
        "id": "VDUEq1PeXOD8"
      },
      "execution_count": null,
      "outputs": []
    },
    {
      "cell_type": "code",
      "source": [
        "sns.catplot(x=\"Gender\", y=\"Married\",\n",
        "\t\t\thue=\"Loan_Status\",\n",
        "\t\t\tkind=\"bar\",\n",
        "\t\t\tdata=data)"
      ],
      "metadata": {
        "id": "eClZmgjcXfkW"
      },
      "execution_count": null,
      "outputs": []
    },
    {
      "cell_type": "code",
      "source": [
        "for col in data.columns:\n",
        "  data[col] = data[col].fillna(data[col].mean())\n",
        "\n",
        "data.isna().sum()"
      ],
      "metadata": {
        "id": "tTtfdDi0Xfu1"
      },
      "execution_count": null,
      "outputs": []
    },
    {
      "cell_type": "code",
      "source": [
        "from sklearn.model_selection import train_test_split\n",
        "\n",
        "X = data.drop(['Loan_Status'],axis=1)\n",
        "Y = data['Loan_Status']\n",
        "X.shape,Y.shape\n",
        "\n",
        "X_train, X_test, Y_train, Y_test = train_test_split(X, Y,\n",
        "\t\t\t\t\t\t\t\t\t\t\t\t\ttest_size=0.4,\n",
        "\t\t\t\t\t\t\t\t\t\t\t\t\trandom_state=1)\n",
        "X_train.shape, X_test.shape, Y_train.shape, Y_test.shape"
      ],
      "metadata": {
        "id": "mXrvUuiOXlzv"
      },
      "execution_count": null,
      "outputs": []
    },
    {
      "cell_type": "code",
      "source": [
        "print(X)"
      ],
      "metadata": {
        "id": "grP6QNVrgg-M"
      },
      "execution_count": null,
      "outputs": []
    },
    {
      "cell_type": "code",
      "source": [
        "print(Y)"
      ],
      "metadata": {
        "id": "PgjrIWPA02DQ"
      },
      "execution_count": null,
      "outputs": []
    },
    {
      "cell_type": "code",
      "source": [
        "from sklearn.neighbors import KNeighborsClassifier\n",
        "from sklearn.ensemble import RandomForestClassifier\n",
        "from sklearn.svm import SVC\n",
        "from sklearn.linear_model import LogisticRegression\n",
        "\n",
        "from sklearn import metrics\n",
        "\n",
        "knn = KNeighborsClassifier(n_neighbors=3)\n",
        "rfc = RandomForestClassifier(n_estimators = 7,\n",
        "                             criterion = 'entropy',\n",
        "                             random_state =7)\n",
        "svc = SVC()\n",
        "lc = LogisticRegression()\n",
        "\n",
        "# making predictions on the training set\n"
      ],
      "metadata": {
        "id": "0AnQVJnMXngj"
      },
      "execution_count": null,
      "outputs": []
    },
    {
      "cell_type": "code",
      "source": [
        "# making predictions on the testing set\n"
      ],
      "metadata": {
        "id": "09e-jNJEXwcU"
      },
      "execution_count": null,
      "outputs": []
    },
    {
      "cell_type": "code",
      "source": [
        "import pickle"
      ],
      "metadata": {
        "id": "XSSCpfSSYRds"
      },
      "execution_count": null,
      "outputs": []
    },
    {
      "cell_type": "code",
      "source": [
        "#saving the model for the app (pilih model terbaik)\n"
      ],
      "metadata": {
        "id": "lJKCP_uKXy3H"
      },
      "execution_count": null,
      "outputs": []
    }
  ]
}